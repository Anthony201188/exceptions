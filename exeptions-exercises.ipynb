{
 "cells": [
  {
   "attachments": {},
   "cell_type": "markdown",
   "metadata": {},
   "source": [
    "## Exercise 1\n",
    "- Write a program that prompts the user for a number. The number should divide the number 1. Handle the ZeroDivisionError exception and print an error message.\n",
    "- The program will keep prompting the user to enter a number until a non-zero number is entered.\n",
    "Hint:\n",
    "- use a while loop\n",
    "- research on the keyword: *break*\n"
   ]
  },
  {
   "cell_type": "code",
   "execution_count": 2,
   "metadata": {},
   "outputs": [
    {
     "name": "stdout",
     "output_type": "stream",
     "text": [
      "Cannot divide by zero. Please try again.\n",
      "Cannot divide by zero. Please try again.\n",
      "Cannot divide by zero. Please try again.\n",
      "Cannot divide by zero. Please try again.\n",
      "Result:  0.2\n"
     ]
    }
   ],
   "source": [
    "while True: # while loop uses True condtiontions means that this will loop until the true condtions is met, it will then break at the \"break\"\n",
    "            # ask about true constiond, does this mean everying thats indented is ture it will continue to loop until then?\n",
    "    try:\n",
    "        num = int(input(\"Enter a number: \")) #user input as an int\n",
    "        result = 1 / num \n",
    "        print(\"Result: \", result)\n",
    "        break  # exit the loop if no exception is raised\n",
    "    except ValueError: # except \"allows the Value error\" with any indented commands subsequently in this case print\n",
    "        print(\"Please enter a valid number.\") #exeption for catching incorrect input datatypes\n",
    "    except ZeroDivisionError:\n",
    "        print(\"Cannot divide by zero. Please try again.\") #exeption for catching 0 divisions i.e only 0\n"
   ]
  }
 ],
 "metadata": {
  "kernelspec": {
   "display_name": "Python 3",
   "language": "python",
   "name": "python3"
  },
  "language_info": {
   "codemirror_mode": {
    "name": "ipython",
    "version": 3
   },
   "file_extension": ".py",
   "mimetype": "text/x-python",
   "name": "python",
   "nbconvert_exporter": "python",
   "pygments_lexer": "ipython3",
   "version": "3.8.10"
  },
  "orig_nbformat": 4
 },
 "nbformat": 4,
 "nbformat_minor": 2
}
